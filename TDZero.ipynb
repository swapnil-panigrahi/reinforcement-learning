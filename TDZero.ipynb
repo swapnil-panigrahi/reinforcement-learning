{
 "cells": [
  {
   "cell_type": "code",
   "execution_count": 1,
   "metadata": {},
   "outputs": [],
   "source": [
    "import numpy as np\n",
    "import matplotlib.pyplot as plt\n",
    "import gymnasium as gym\n",
    "from collections import defaultdict as defaultdict\n",
    "import pygame\n",
    "from tqdm import trange"
   ]
  },
  {
   "cell_type": "code",
   "execution_count": 2,
   "metadata": {},
   "outputs": [],
   "source": [
    "env = gym.make(\"CliffWalking-v0\")"
   ]
  },
  {
   "cell_type": "code",
   "execution_count": 3,
   "metadata": {},
   "outputs": [],
   "source": [
    "def TDZero(env, runs, gamma, alpha = 0.5):\n",
    "    policy = np.ones((env.observation_space.n , env.action_space.n))/env.action_space.n\n",
    "    v = np.zeros((env.observation_space.n))\n",
    "    step = 0\n",
    "    for i in trange(runs):\n",
    "        state, info = env.reset()\n",
    "        while True:\n",
    "            step += 1\n",
    "            action = np.random.choice(env.action_space.n , p = policy[state])\n",
    "            nextState, reward, done, _, _ = env.step(action)\n",
    "            \n",
    "            v[state] += 1/step * (reward + gamma * v[nextState] - v[state])\n",
    "            \n",
    "            state = nextState \n",
    "            if done:\n",
    "                break\n",
    "    return v"
   ]
  },
  {
   "cell_type": "code",
   "execution_count": 4,
   "metadata": {},
   "outputs": [
    {
     "name": "stderr",
     "output_type": "stream",
     "text": [
      "100%|██████████| 50/50 [00:15<00:00,  3.31it/s]"
     ]
    },
    {
     "name": "stdout",
     "output_type": "stream",
     "text": [
      "[-1.16408956e+00 -9.45662592e-01 -5.50944902e-01 -2.93282373e-01\n",
      " -1.18187214e-01 -1.08310780e-01 -8.04874220e-02 -7.28516794e-02\n",
      " -4.08162201e-02 -1.55512831e-02 -7.75294968e-03 -4.53265295e-03\n",
      " -1.96476188e+00 -1.71227780e+00 -7.66297484e-01 -3.78732520e-01\n",
      " -1.41473472e-01 -1.40517801e-01 -9.09286713e-02 -4.26375387e-02\n",
      " -2.31758879e-02 -1.06627846e-02 -5.34296103e-03 -3.43817842e-03\n",
      " -8.64670860e+00 -1.29192297e+01 -6.30504473e+00 -6.00133026e+00\n",
      " -1.97044854e+00 -1.68569724e+00 -6.63022548e-01 -5.39464594e-01\n",
      " -1.95191085e-01 -1.83574861e-01 -1.26358024e-01 -1.63234700e-03\n",
      " -4.79752757e+01  0.00000000e+00  0.00000000e+00  0.00000000e+00\n",
      "  0.00000000e+00  0.00000000e+00  0.00000000e+00  0.00000000e+00\n",
      "  0.00000000e+00  0.00000000e+00  0.00000000e+00  0.00000000e+00]\n"
     ]
    },
    {
     "name": "stderr",
     "output_type": "stream",
     "text": [
      "\n"
     ]
    }
   ],
   "source": [
    "V = TDZero(env, 50, 1, 0.5)\n",
    "print(V)"
   ]
  },
  {
   "cell_type": "code",
   "execution_count": 5,
   "metadata": {},
   "outputs": [],
   "source": [
    "Q = np.zeros((env.observation_space.n, env.action_space.n))\n",
    "gamma = 1\n",
    "for state in range(env.observation_space.n):\n",
    "    for action in range(env.action_space.n):\n",
    "        acc = 0.0 \n",
    "        for prob, next_state, reward, done in env.unwrapped.P[state][action]:\n",
    "            acc += prob * (reward + gamma * V[next_state])\n",
    "        Q[state, action] = acc"
   ]
  },
  {
   "cell_type": "code",
   "execution_count": 6,
   "metadata": {},
   "outputs": [],
   "source": [
    "env = gym.make(\"CliffWalking-v0\", render_mode = \"human\")\n",
    "state , info = env.reset()\n",
    "while True:\n",
    "    action = np.argmax(Q[state])\n",
    "    nextState, reward, done, _, _ = env.step(action)\n",
    "    if done:\n",
    "        break\n",
    "    state = nextState"
   ]
  },
  {
   "cell_type": "code",
   "execution_count": 7,
   "metadata": {},
   "outputs": [],
   "source": [
    "pygame.quit()"
   ]
  }
 ],
 "metadata": {
  "kernelspec": {
   "display_name": ".venv",
   "language": "python",
   "name": "python3"
  },
  "language_info": {
   "codemirror_mode": {
    "name": "ipython",
    "version": 3
   },
   "file_extension": ".py",
   "mimetype": "text/x-python",
   "name": "python",
   "nbconvert_exporter": "python",
   "pygments_lexer": "ipython3",
   "version": "3.12.3"
  }
 },
 "nbformat": 4,
 "nbformat_minor": 2
}
