{
 "cells": [
  {
   "cell_type": "code",
   "execution_count": 10,
   "metadata": {},
   "outputs": [],
   "source": [
    "import numpy as np\n",
    "import matplotlib.pyplot as plt\n",
    "import gymnasium as gym\n",
    "from collections import defaultdict as defaultdict\n",
    "import pygame\n",
    "from tqdm import trange"
   ]
  },
  {
   "cell_type": "code",
   "execution_count": 11,
   "metadata": {},
   "outputs": [],
   "source": [
    "env = gym.make(\"CliffWalking-v0\")"
   ]
  },
  {
   "cell_type": "code",
   "execution_count": 12,
   "metadata": {},
   "outputs": [],
   "source": [
    "def TDZero(env, runs, gamma, alpha = 0.5):\n",
    "    policy = np.ones((env.observation_space.n , env.action_space.n))/env.action_space.n\n",
    "    v = np.zeros((env.observation_space.n))\n",
    "    step = 0\n",
    "    for i in trange(runs):\n",
    "        state, info = env.reset()\n",
    "        while True:\n",
    "            step += 1\n",
    "            action = np.random.choice(env.action_space.n , p = policy[state])\n",
    "            nextState, reward, done, _, _ = env.step(action)\n",
    "            \n",
    "            v[state] += 1/step * (reward + gamma * v[nextState] - v[state])\n",
    "            \n",
    "            state = nextState \n",
    "            if done:\n",
    "                break\n",
    "    return v"
   ]
  },
  {
   "cell_type": "code",
   "execution_count": 13,
   "metadata": {},
   "outputs": [
    {
     "name": "stderr",
     "output_type": "stream",
     "text": [
      "100%|██████████| 50/50 [00:07<00:00,  6.65it/s]"
     ]
    },
    {
     "name": "stdout",
     "output_type": "stream",
     "text": [
      "[-1.11324355e+00 -8.37443990e-01 -5.92106033e-01 -5.22236594e-01\n",
      " -2.28432466e-01 -1.20088977e-01 -9.41585945e-02 -6.70279752e-02\n",
      " -2.60983770e-02 -1.77520083e-02 -1.42666820e-02 -1.56439483e-02\n",
      " -1.71775928e+00 -1.78830058e+00 -7.31260383e-01 -3.98957464e-01\n",
      " -2.18771723e-01 -1.00119184e-01 -1.05517719e-01 -6.56496234e-02\n",
      " -3.17626319e-02 -2.09515878e-02 -9.65965031e-03 -1.38021886e-02\n",
      " -8.00253881e+00 -1.43017400e+01 -7.31023974e+00 -3.04448277e+00\n",
      " -1.94234863e+00 -1.50289266e+00 -9.75663687e-01 -4.44515189e-01\n",
      " -4.58750898e-01 -1.25355409e+00 -2.66419142e-01 -5.73969835e-03\n",
      " -4.41917102e+01  0.00000000e+00  0.00000000e+00  0.00000000e+00\n",
      "  0.00000000e+00  0.00000000e+00  0.00000000e+00  0.00000000e+00\n",
      "  0.00000000e+00  0.00000000e+00  0.00000000e+00  0.00000000e+00]\n"
     ]
    },
    {
     "name": "stderr",
     "output_type": "stream",
     "text": [
      "\n"
     ]
    }
   ],
   "source": [
    "V = TDZero(env, 50, 1, 0.5)\n",
    "print(V)"
   ]
  },
  {
   "cell_type": "code",
   "execution_count": 14,
   "metadata": {},
   "outputs": [],
   "source": [
    "Q = np.zeros((env.observation_space.n, env.action_space.n))\n",
    "gamma = 1\n",
    "for state in range(env.observation_space.n):\n",
    "    for action in range(env.action_space.n):\n",
    "        acc = 0.0 \n",
    "        for prob, next_state, reward, done in env.unwrapped.P[state][action]:\n",
    "            acc += prob * (reward + gamma * V[next_state])\n",
    "        Q[state, action] = acc"
   ]
  },
  {
   "cell_type": "code",
   "execution_count": 19,
   "metadata": {},
   "outputs": [],
   "source": [
    "env = gym.make(\"CliffWalking-v0\", render_mode = \"human\")\n",
    "state , info = env.reset()\n",
    "while True:\n",
    "    action = np.argmax(Q[state])\n",
    "    nextState, reward, done, _, _ = env.step(action)\n",
    "    if done:\n",
    "        break\n",
    "    state = nextState"
   ]
  },
  {
   "cell_type": "code",
   "execution_count": 20,
   "metadata": {},
   "outputs": [],
   "source": [
    "pygame.quit()"
   ]
  }
 ],
 "metadata": {
  "kernelspec": {
   "display_name": "Python 3",
   "language": "python",
   "name": "python3"
  },
  "language_info": {
   "codemirror_mode": {
    "name": "ipython",
    "version": 3
   },
   "file_extension": ".py",
   "mimetype": "text/x-python",
   "name": "python",
   "nbconvert_exporter": "python",
   "pygments_lexer": "ipython3",
   "version": "3.13.0"
  }
 },
 "nbformat": 4,
 "nbformat_minor": 2
}
