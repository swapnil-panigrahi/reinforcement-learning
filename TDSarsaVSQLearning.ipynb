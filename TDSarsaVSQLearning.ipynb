{
 "cells": [
  {
   "cell_type": "code",
   "execution_count": 1,
   "metadata": {
    "ExecuteTime": {
     "end_time": "2024-11-26T18:09:46.740869Z",
     "start_time": "2024-11-26T18:09:45.888797Z"
    }
   },
   "outputs": [],
   "source": [
    "import gymnasium as gym\n",
    "import matplotlib.pyplot as plt\n",
    "from collections import defaultdict as defaultdict\n",
    "import numpy as np\n",
    "from tqdm import trange"
   ]
  },
  {
   "cell_type": "code",
   "execution_count": 2,
   "metadata": {
    "ExecuteTime": {
     "end_time": "2024-11-26T18:09:49.494739Z",
     "start_time": "2024-11-26T18:09:46.804270Z"
    }
   },
   "outputs": [
    {
     "name": "stdout",
     "output_type": "stream",
     "text": [
      "Requirement already satisfied: pygame in c:\\users\\swapn\\appdata\\local\\programs\\python\\python313\\lib\\site-packages (2.6.1)\n",
      "Note: you may need to restart the kernel to use updated packages.\n"
     ]
    },
    {
     "name": "stderr",
     "output_type": "stream",
     "text": [
      "\n",
      "[notice] A new release of pip is available: 24.2 -> 24.3.1\n",
      "[notice] To update, run: python.exe -m pip install --upgrade pip\n"
     ]
    }
   ],
   "source": [
    "%pip install pygame\n",
    "import pygame"
   ]
  },
  {
   "cell_type": "code",
   "execution_count": 3,
   "metadata": {
    "ExecuteTime": {
     "end_time": "2024-11-26T18:09:50.021914Z",
     "start_time": "2024-11-26T18:09:50.006552Z"
    }
   },
   "outputs": [],
   "source": [
    "env = gym.make('CliffWalking-v0')\n",
    "\n",
    "def Sarsa(env, runs, gamma, alpha = 0.5, epsilon = 0.1):\n",
    "    Q = defaultdict(lambda : np.zeros(env.action_space.n))\n",
    "    rewardList = np.zeros(runs)\n",
    "    \n",
    "    for _ in range(runs):\n",
    "        state = env.reset()[0]\n",
    "        if np.random.rand() < epsilon:\n",
    "            action = env.action_space.sample()\n",
    "        else:\n",
    "            action = np.argmax(Q[state])\n",
    "            \n",
    "        totalReward = 0\n",
    "        while True:\n",
    "            nextState, reward, terminated, x, x = env.step(action)\n",
    "            totalReward += reward\n",
    "            \n",
    "            if np.random.rand() < epsilon:\n",
    "                nextAction = env.action_space.sample()\n",
    "            else:\n",
    "                nextAction = np.argmax(Q[nextState])\n",
    "\n",
    "            Q[state][action] += alpha * (reward + gamma * Q[nextState][nextAction] - Q[state][action])\n",
    "            \n",
    "            if terminated:\n",
    "                rewardList[_] = totalReward\n",
    "                break\n",
    "                \n",
    "            state = nextState\n",
    "            action = nextAction\n",
    "            \n",
    "    return Q, rewardList"
   ]
  },
  {
   "cell_type": "code",
   "execution_count": 4,
   "metadata": {
    "ExecuteTime": {
     "end_time": "2024-11-26T18:09:50.038345Z",
     "start_time": "2024-11-26T18:09:50.030987Z"
    }
   },
   "outputs": [],
   "source": [
    "def QLearning(env, runs, gamma, alpha = 0.5, epsilon = 0.1):\n",
    "    Q = defaultdict(lambda : np.zeros(env.action_space.n))\n",
    "    rewardList = np.zeros(runs)\n",
    "    \n",
    "    for _ in range(runs):\n",
    "        state = env.reset()[0]\n",
    "        if np.random.rand() < epsilon:\n",
    "            action = env.action_space.sample()\n",
    "        else:\n",
    "            action = np.argmax(Q[state])\n",
    "            \n",
    "        totalReward = 0\n",
    "        while True:\n",
    "            nextState, reward, terminated, x, x = env.step(action)\n",
    "            totalReward += reward\n",
    "            \n",
    "            nextAction = np.argmax(Q[nextState])\n",
    "            Q[state][action] += alpha * (reward + gamma * Q[nextState][nextAction] - Q[state][action])\n",
    "            \n",
    "            if terminated:\n",
    "                rewardList[_] = totalReward\n",
    "                break\n",
    "            \n",
    "            state = nextState\n",
    "            action = nextAction\n",
    "    return Q, rewardList"
   ]
  },
  {
   "cell_type": "code",
   "execution_count": 5,
   "metadata": {
    "ExecuteTime": {
     "end_time": "2024-11-26T18:10:22.526461Z",
     "start_time": "2024-11-26T18:09:50.104048Z"
    }
   },
   "outputs": [
    {
     "name": "stderr",
     "output_type": "stream",
     "text": [
      "100%|██████████| 100/100 [00:42<00:00,  2.33it/s]\n"
     ]
    }
   ],
   "source": [
    "avgRewardSarsa = np.zeros(1000)\n",
    "avgRewardQLearning = np.zeros(1000)\n",
    "\n",
    "for i in trange(100):\n",
    "    QSarsa, rewardSarsa = Sarsa(env, 1000, 1, 0.5)\n",
    "    Q_QLearning, rewardLearning = QLearning(env, 1000, 1, 0.5)\n",
    "    \n",
    "    avgRewardSarsa += rewardSarsa\n",
    "    avgRewardQLearning += rewardLearning\n",
    "\n",
    "avgRewardSarsa /= 100\n",
    "avgRewardQLearning /= 100"
   ]
  },
  {
   "cell_type": "code",
   "execution_count": 6,
   "metadata": {},
   "outputs": [],
   "source": [
    "# For SARSA\n",
    "policySarsa = {}\n",
    "for state in QSarsa:\n",
    "    policySarsa[state] = np.argmax(QSarsa[state])\n",
    "\n",
    "# For Q-Learning\n",
    "policyQLearning = {}\n",
    "for state in Q_QLearning:\n",
    "    policyQLearning[state] = np.argmax(Q_QLearning[state])"
   ]
  },
  {
   "cell_type": "code",
   "execution_count": 7,
   "metadata": {},
   "outputs": [],
   "source": [
    "def visualize_policy(policy, env_shape):\n",
    "    policy_symbols = {3: '←', 2: '↓', 1: '→', 0: '↑'}\n",
    "    policy_grid = np.empty(env_shape, dtype=str)\n",
    "    num_states = env_shape[0] * env_shape[1]\n",
    "    \n",
    "    for state in range(num_states):\n",
    "        action = policy.get(state, -1)  # Use -1 for unknown actions\n",
    "        symbol = policy_symbols.get(action, ' ')  # Use a blank space for unknown actions\n",
    "        row = state // env_shape[1]\n",
    "        col = state % env_shape[1]\n",
    "        policy_grid[row, col] = symbol\n",
    "    \n",
    "    for row in policy_grid:\n",
    "        print(' '.join(row))"
   ]
  },
  {
   "cell_type": "code",
   "execution_count": 8,
   "metadata": {},
   "outputs": [
    {
     "name": "stdout",
     "output_type": "stream",
     "text": [
      "Policy derived from SARSA:\n",
      "→ → → → → → → → → → ↓ ↓\n",
      "→ → → → ↑ → → → → ↑ → ↓\n",
      "↑ ↑ ← ↑ ↑ ↑ ↑ ↑ ↑ ← → ↓\n",
      "↑                     ↑\n",
      "\n",
      "Policy derived from Q-Learning:\n",
      "→ → → ↓ ↓ → → → ↓ → → ↓\n",
      "→ → ↑ → ← → → ↓ → → ↓ ↓\n",
      "→ → → → → → → → → → → ↓\n",
      "↑                     ↑\n"
     ]
    }
   ],
   "source": [
    "# Visualize SARSA policy\n",
    "print(\"Policy derived from SARSA:\")\n",
    "visualize_policy(policySarsa, (4, 12))  # Assuming CliffWalking environment with shape 4x12\n",
    "\n",
    "# Visualize Q-Learning policy\n",
    "print(\"\\nPolicy derived from Q-Learning:\")\n",
    "visualize_policy(policyQLearning, (4, 12))"
   ]
  },
  {
   "cell_type": "code",
   "execution_count": 9,
   "metadata": {},
   "outputs": [],
   "source": [
    "env = gym.make(\"CliffWalking-v0\", render_mode = \"human\")\n",
    "state , info = env.reset()\n",
    "while True:\n",
    "    action = policySarsa[state]\n",
    "    nextState, reward, done, _, _ = env.step(action)\n",
    "    if done:\n",
    "        break\n",
    "    state = nextState"
   ]
  },
  {
   "cell_type": "code",
   "execution_count": 10,
   "metadata": {},
   "outputs": [],
   "source": [
    "pygame.quit()"
   ]
  },
  {
   "cell_type": "code",
   "execution_count": 11,
   "metadata": {},
   "outputs": [],
   "source": [
    "env = gym.make(\"CliffWalking-v0\", render_mode = \"human\")\n",
    "state , info = env.reset()\n",
    "while True:\n",
    "    action = policyQLearning[state]\n",
    "    nextState, reward, done, _, _ = env.step(action)\n",
    "    if done:\n",
    "        break\n",
    "    state = nextState"
   ]
  },
  {
   "cell_type": "code",
   "execution_count": 12,
   "metadata": {},
   "outputs": [],
   "source": [
    "pygame.quit()"
   ]
  },
  {
   "cell_type": "code",
   "execution_count": 13,
   "metadata": {
    "ExecuteTime": {
     "end_time": "2024-11-26T18:10:22.743175Z",
     "start_time": "2024-11-26T18:10:22.552704Z"
    }
   },
   "outputs": [
    {
     "data": {
      "image/png": "[encoded data removed]",
      "text/plain": [
       "<Figure size 640x480 with 1 Axes>"
      ]
     },
     "metadata": {},
     "output_type": "display_data"
    }
   ],
   "source": [
    "plt.plot(avgRewardQLearning, label = \"TD SARSA\", color = \"blue\")\n",
    "plt.plot(avgRewardSarsa, label = \"TD Q Learning\", color = \"red\")\n",
    "plt.xlabel(\"Episodes\")\n",
    "plt.ylabel(\"Sum of Rewards\")\n",
    "plt.ylim([-100, 0])\n",
    "plt.legend()\n",
    "plt.show()"
   ]
  }
 ],
 "metadata": {
  "kernelspec": {
   "display_name": "Python 3",
   "language": "python",
   "name": "python3"
  },
  "language_info": {
   "codemirror_mode": {
    "name": "ipython",
    "version": 3
   },
   "file_extension": ".py",
   "mimetype": "text/x-python",
   "name": "python",
   "nbconvert_exporter": "python",
   "pygments_lexer": "ipython3",
   "version": "3.13.0"
  }
 },
 "nbformat": 4,
 "nbformat_minor": 2
}
