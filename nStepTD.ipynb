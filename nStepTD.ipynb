{
 "cells": [
  {
   "cell_type": "code",
   "execution_count": 14,
   "metadata": {},
   "outputs": [],
   "source": [
    "import numpy as np\n",
    "import matplotlib.pyplot as plt\n",
    "import gymnasium as gym\n",
    "from collections import defaultdict as defaultdict\n",
    "import pygame\n",
    "from tqdm import trange"
   ]
  },
  {
   "cell_type": "code",
   "execution_count": 15,
   "metadata": {},
   "outputs": [],
   "source": [
    "env = gym.make(\"CliffWalking-v0\")"
   ]
  },
  {
   "cell_type": "code",
   "execution_count": 16,
   "metadata": {},
   "outputs": [],
   "source": [
    "def nTD(env, n, runs, gamma = 1, alpha = 0.5):\n",
    "    policy = np.ones((env.observation_space.n, env.action_space.n))/env.action_space.n\n",
    "    v = np.zeros((env.observation_space.n))\n",
    "    \n",
    "    totalstep = 0\n",
    "    for i in trange(runs):\n",
    "        state, info = env.reset()\n",
    "        R = [0]\n",
    "        S = [state]\n",
    "        step = 0\n",
    "\n",
    "        while True:\n",
    "            step += 1\n",
    "            totalstep += 1\n",
    "            \n",
    "            action = np.random.choice(env.action_space.n , p = policy[state])\n",
    "            nextState, reward, done, _, _ = env.step(action)\n",
    "            \n",
    "            R.append(reward)\n",
    "            S.append(nextState)\n",
    "            \n",
    "            if step >= n:\n",
    "                tempReward = R[step - n : step]\n",
    "                gamma_ = [gamma ** i for i in range(n)]\n",
    "                    \n",
    "                G = np.dot(tempReward, gamma_)\n",
    "                G += (gamma ** n) * v[S[step]]\n",
    "                \n",
    "                v[S[step - n]] += 1/totalstep * (G - v[S[step - n]])\n",
    "                \n",
    "            if done:\n",
    "                for i in range(max(0, step - n + 1), step):\n",
    "                    tempEpisode = R[i + 1 : step + 1]\n",
    "                    gamma_ = [gamma ** i for i in range(len(tempEpisode))]\n",
    "                    \n",
    "                    G = np.dot(tempEpisode, gamma_)\n",
    "                    v[S[i]] += 1/totalstep * (G - v[S[i]])\n",
    "                break\n",
    "            state = nextState \n",
    "            \n",
    "    return v"
   ]
  },
  {
   "cell_type": "code",
   "execution_count": 17,
   "metadata": {},
   "outputs": [
    {
     "name": "stderr",
     "output_type": "stream",
     "text": [
      "100%|██████████| 50/50 [00:12<00:00,  3.99it/s]"
     ]
    },
    {
     "name": "stdout",
     "output_type": "stream",
     "text": [
      "[-114.22071335 -101.7093928   -81.67571623  -52.19097836  -37.07483867\n",
      "  -27.27467772  -32.05971512  -18.01387435  -10.23672396   -5.78869562\n",
      "  -21.58243172   -6.39819562 -160.69978006 -114.50153033  -80.72342315\n",
      "  -49.31732846  -39.50080875  -32.67198499  -26.12046681  -10.80355276\n",
      "   -9.96172537   -8.77264288   -7.65995644   -0.99364855 -268.5795557\n",
      " -160.34873762  -85.6747507   -49.67510266  -24.06640839  -12.22547718\n",
      "  -17.61908633   -5.10297351   -2.86302324   -1.60976549   -1.48196941\n",
      "   -0.58065365 -447.95896557    0.            0.            0.\n",
      "    0.            0.            0.            0.            0.\n",
      "    0.            0.            0.        ]\n"
     ]
    },
    {
     "name": "stderr",
     "output_type": "stream",
     "text": [
      "\n"
     ]
    }
   ],
   "source": [
    "V = nTD(env, 20, 50, 1, 0.5)\n",
    "print(V)"
   ]
  },
  {
   "cell_type": "code",
   "execution_count": 18,
   "metadata": {},
   "outputs": [],
   "source": [
    "Q = np.zeros((env.observation_space.n, env.action_space.n))\n",
    "gamma = 1\n",
    "for state in range(env.observation_space.n):\n",
    "    for action in range(env.action_space.n):\n",
    "        acc = 0.0 \n",
    "        for prob, next_state, reward, done in env.unwrapped.P[state][action]:\n",
    "            acc += prob * (reward + gamma * V[next_state])\n",
    "        Q[state, action] = acc "
   ]
  },
  {
   "cell_type": "code",
   "execution_count": 19,
   "metadata": {},
   "outputs": [],
   "source": [
    "env = gym.make(\"CliffWalking-v0\", render_mode = \"human\")\n",
    "state , info = env.reset()\n",
    "while True:\n",
    "    action = np.argmax(Q[state])\n",
    "    nextState, reward, done, _, _ = env.step(action)\n",
    "    if done:\n",
    "        break\n",
    "    state = nextState"
   ]
  },
  {
   "cell_type": "code",
   "execution_count": 20,
   "metadata": {},
   "outputs": [],
   "source": [
    "pygame.quit()"
   ]
  }
 ],
 "metadata": {
  "kernelspec": {
   "display_name": "Python 3",
   "language": "python",
   "name": "python3"
  },
  "language_info": {
   "codemirror_mode": {
    "name": "ipython",
    "version": 3
   },
   "file_extension": ".py",
   "mimetype": "text/x-python",
   "name": "python",
   "nbconvert_exporter": "python",
   "pygments_lexer": "ipython3",
   "version": "3.13.0"
  }
 },
 "nbformat": 4,
 "nbformat_minor": 2
}
