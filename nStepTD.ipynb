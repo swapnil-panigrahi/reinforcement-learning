{
 "cells": [
  {
   "cell_type": "code",
   "execution_count": 91,
   "metadata": {},
   "outputs": [],
   "source": [
    "import numpy as np\n",
    "import matplotlib.pyplot as plt\n",
    "import gymnasium as gym\n",
    "from collections import defaultdict as defaultdict\n",
    "import pygame\n",
    "from tqdm import trange"
   ]
  },
  {
   "cell_type": "code",
   "execution_count": 92,
   "metadata": {},
   "outputs": [],
   "source": [
    "env = gym.make(\"CliffWalking-v0\")"
   ]
  },
  {
   "cell_type": "code",
   "execution_count": 93,
   "metadata": {},
   "outputs": [],
   "source": [
    "def nTD(env, n, runs, gamma = 1, alpha = 0.5):\n",
    "    policy = np.ones((env.observation_space.n, env.action_space.n))/env.action_space.n\n",
    "    v = np.zeros((env.observation_space.n))\n",
    "    \n",
    "    totalstep = 0\n",
    "    for i in trange(runs):\n",
    "        state, info = env.reset()\n",
    "        R = [0]\n",
    "        S = [state]\n",
    "        step = 0\n",
    "\n",
    "        while True:\n",
    "            step += 1\n",
    "            totalstep += 1\n",
    "            \n",
    "            action = np.random.choice(env.action_space.n , p = policy[state])\n",
    "            nextState, reward, done, _, _ = env.step(action)\n",
    "            \n",
    "            R.append(reward)\n",
    "            S.append(nextState)\n",
    "            \n",
    "            if step >= n:\n",
    "                tempReward = R[step - n : step]\n",
    "                gamma_ = [gamma ** i for i in range(n)]\n",
    "                    \n",
    "                G = np.dot(tempReward, gamma_)\n",
    "                G += (gamma ** n) * v[S[step]]\n",
    "                \n",
    "                v[S[step - n]] += 1/totalstep * (G - v[S[step - n]])\n",
    "                \n",
    "            if done:\n",
    "                for i in range(max(0, step - n + 1), step):\n",
    "                    tempEpisode = R[i + 1 : step + 1]\n",
    "                    gamma_ = [gamma ** i for i in range(len(tempEpisode))]\n",
    "                    \n",
    "                    G = np.dot(tempEpisode, gamma_)\n",
    "                    v[S[i]] += 1/totalstep * (G - v[S[i]])\n",
    "                break\n",
    "            state = nextState \n",
    "            \n",
    "    return v"
   ]
  },
  {
   "cell_type": "code",
   "execution_count": 94,
   "metadata": {},
   "outputs": [
    {
     "name": "stderr",
     "output_type": "stream",
     "text": [
      "100%|██████████| 50/50 [00:19<00:00,  2.56it/s]"
     ]
    },
    {
     "name": "stdout",
     "output_type": "stream",
     "text": [
      "[-1.07498136e+02 -8.49735727e+01 -6.30668479e+01 -5.18425866e+01\n",
      " -4.62566447e+01 -3.48551695e+01 -1.57959663e+01 -8.32942082e+00\n",
      " -4.66735489e+00 -1.95422536e+00 -1.12940009e+00 -7.39684377e-01\n",
      " -1.48957758e+02 -1.11840429e+02 -7.94569106e+01 -6.84336925e+01\n",
      " -5.70932944e+01 -3.95445126e+01 -2.26185261e+01 -1.49521963e+01\n",
      " -6.83550295e+00 -2.02729735e+00 -1.25407403e+00 -4.86997798e-01\n",
      " -2.32148681e+02 -1.33344084e+02 -7.03115822e+01 -5.46047616e+01\n",
      " -3.51377657e+01 -2.36125810e+01 -1.31364380e+01 -6.10948073e+00\n",
      " -3.30029833e+00 -2.45188557e+00 -9.06164958e-01 -1.93855956e-01\n",
      " -4.10183568e+02  0.00000000e+00  0.00000000e+00  0.00000000e+00\n",
      "  0.00000000e+00  0.00000000e+00  0.00000000e+00  0.00000000e+00\n",
      "  0.00000000e+00  0.00000000e+00  0.00000000e+00  0.00000000e+00]\n"
     ]
    },
    {
     "name": "stderr",
     "output_type": "stream",
     "text": [
      "\n"
     ]
    }
   ],
   "source": [
    "V = nTD(env, 20, 50, 1, 0.5)\n",
    "print(V)"
   ]
  },
  {
   "cell_type": "code",
   "execution_count": 95,
   "metadata": {},
   "outputs": [],
   "source": [
    "Q = np.zeros((env.observation_space.n, env.action_space.n))\n",
    "gamma = 1\n",
    "for state in range(env.observation_space.n):\n",
    "    for action in range(env.action_space.n):\n",
    "        acc = 0.0 \n",
    "        for prob, next_state, reward, done in env.unwrapped.P[state][action]:\n",
    "            acc += prob * (reward + gamma * V[next_state])\n",
    "        Q[state, action] = acc "
   ]
  },
  {
   "cell_type": "code",
   "execution_count": 96,
   "metadata": {},
   "outputs": [],
   "source": [
    "env = gym.make(\"CliffWalking-v0\", render_mode = \"human\")\n",
    "state , info = env.reset()\n",
    "while True:\n",
    "    action = np.argmax(Q[state])\n",
    "    nextState, reward, done, _, _ = env.step(action)\n",
    "    if done:\n",
    "        break\n",
    "    state = nextState"
   ]
  },
  {
   "cell_type": "code",
   "execution_count": 97,
   "metadata": {},
   "outputs": [],
   "source": [
    "pygame.quit()"
   ]
  }
 ],
 "metadata": {
  "kernelspec": {
   "display_name": ".venv",
   "language": "python",
   "name": "python3"
  },
  "language_info": {
   "codemirror_mode": {
    "name": "ipython",
    "version": 3
   },
   "file_extension": ".py",
   "mimetype": "text/x-python",
   "name": "python",
   "nbconvert_exporter": "python",
   "pygments_lexer": "ipython3",
   "version": "3.12.3"
  }
 },
 "nbformat": 4,
 "nbformat_minor": 2
}
