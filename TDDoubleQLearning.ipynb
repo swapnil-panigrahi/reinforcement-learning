{
 "cells": [
  {
   "cell_type": "code",
   "execution_count": null,
   "metadata": {
    "ExecuteTime": {
     "end_time": "2024-11-26T18:09:46.740869Z",
     "start_time": "2024-11-26T18:09:45.888797Z"
    }
   },
   "outputs": [],
   "source": [
    "import gymnasium as gym\n",
    "import matplotlib.pyplot as plt\n",
    "from collections import defaultdict as defaultdict\n",
    "import numpy as np"
   ]
  },
  {
   "cell_type": "code",
   "execution_count": null,
   "metadata": {
    "ExecuteTime": {
     "end_time": "2024-11-26T18:09:49.494739Z",
     "start_time": "2024-11-26T18:09:46.804270Z"
    }
   },
   "outputs": [],
   "source": [
    "%pip install pygame\n",
    "import pygame"
   ]
  },
  {
   "cell_type": "code",
   "execution_count": null,
   "metadata": {},
   "outputs": [],
   "source": [
    "env = gym.make('CliffWalking-v0')"
   ]
  },
  {
   "cell_type": "code",
   "execution_count": null,
   "metadata": {
    "ExecuteTime": {
     "end_time": "2024-11-26T18:13:06.779017Z",
     "start_time": "2024-11-26T18:13:06.770037Z"
    }
   },
   "outputs": [],
   "source": [
    "def DoubleQLearning(env, runs, gamma, alpha=0.5, epsilon=0.1):\n",
    "    Q1 = defaultdict(lambda: np.zeros(env.action_space.n))\n",
    "    Q2 = defaultdict(lambda: np.zeros(env.action_space.n))\n",
    "    \n",
    "    rewardList = np.zeros(runs)\n",
    "    \n",
    "    for _ in range(runs):\n",
    "        print(_)\n",
    "        state, info = env.reset()\n",
    "            \n",
    "        totalReward = 0\n",
    "        while True:\n",
    "            if np.random.rand() < epsilon:\n",
    "                action = env.action_space.sample()\n",
    "            else:\n",
    "                action = np.argmax(Q1[state] + Q2[state])\n",
    "            \n",
    "            nextState, reward, terminated, x, x = env.step(action)\n",
    "            totalReward += reward\n",
    "            \n",
    "            if np.random.rand() < 0.5:\n",
    "                bestAction = np.argmax(Q1[nextState])\n",
    "                Q1[state][action] += alpha * (reward + gamma * Q2[nextState][bestAction] - Q1[state][action])\n",
    "            else:   \n",
    "                bestAction = np.argmax(Q2[nextState])\n",
    "                Q2[state][action] += alpha * (reward + gamma * Q1[nextState][bestAction] - Q2[state][action])\n",
    "            \n",
    "            if terminated:\n",
    "                rewardList[_] = totalReward\n",
    "                break\n",
    "            \n",
    "            state = nextState\n",
    "    QCombined = defaultdict(lambda: np.zeros(env.action_space.n))\n",
    "    all_states = set(Q1.keys()).union(set(Q2.keys()))\n",
    "    for state in all_states:\n",
    "        QCombined[state] = Q1[state] + Q2[state]\n",
    "    return QCombined, rewardList"
   ]
  },
  {
   "cell_type": "code",
   "execution_count": null,
   "metadata": {
    "ExecuteTime": {
     "end_time": "2024-11-26T18:23:46.399484Z",
     "start_time": "2024-11-26T18:23:46.084848Z"
    }
   },
   "outputs": [],
   "source": [
    "env = gym.make(\"CliffWalking-v0\")\n",
    "QDoubleQLearning, _ = DoubleQLearning(env, 500, 1, 0.5)"
   ]
  },
  {
   "cell_type": "code",
   "execution_count": null,
   "metadata": {},
   "outputs": [],
   "source": [
    "env = gym.make(\"CliffWalking-v0\", render_mode = \"human\")\n",
    "state , info = env.reset()\n",
    "while True:\n",
    "    action = np.argmax(QDoubleQLearning[state])\n",
    "    nextState, reward, done, _, _ = env.step(action)\n",
    "    if done:\n",
    "        break\n",
    "    state = nextState"
   ]
  },
  {
   "cell_type": "code",
   "execution_count": null,
   "metadata": {},
   "outputs": [],
   "source": [
    "pygame.quit()"
   ]
  }
 ],
 "metadata": {
  "kernelspec": {
   "display_name": ".venv",
   "language": "python",
   "name": "python3"
  },
  "language_info": {
   "codemirror_mode": {
    "name": "ipython",
    "version": 3
   },
   "file_extension": ".py",
   "mimetype": "text/x-python",
   "name": "python",
   "nbconvert_exporter": "python",
   "pygments_lexer": "ipython3",
   "version": "3.12.3"
  }
 },
 "nbformat": 4,
 "nbformat_minor": 2
}
