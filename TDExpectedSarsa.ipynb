{
 "cells": [
  {
   "cell_type": "code",
   "execution_count": 1,
   "metadata": {
    "ExecuteTime": {
     "end_time": "2024-11-26T18:09:46.740869Z",
     "start_time": "2024-11-26T18:09:45.888797Z"
    }
   },
   "outputs": [],
   "source": [
    "import gymnasium as gym\n",
    "import matplotlib.pyplot as plt\n",
    "from collections import defaultdict as defaultdict\n",
    "import numpy as np"
   ]
  },
  {
   "cell_type": "code",
   "execution_count": 2,
   "metadata": {
    "ExecuteTime": {
     "end_time": "2024-11-26T18:09:49.494739Z",
     "start_time": "2024-11-26T18:09:46.804270Z"
    }
   },
   "outputs": [
    {
     "name": "stderr",
     "output_type": "stream",
     "text": [
      "\n",
      "[notice] A new release of pip is available: 23.2.1 -> 24.3.1\n",
      "[notice] To update, run: python.exe -m pip install --upgrade pip\n"
     ]
    },
    {
     "name": "stdout",
     "output_type": "stream",
     "text": [
      "Requirement already satisfied: pygame in d:\\college_stuff\\python\\reinforcementlearning\\.venv\\lib\\site-packages (2.6.1)Note: you may need to restart the kernel to use updated packages.\n",
      "\n"
     ]
    }
   ],
   "source": [
    "%pip install pygame\n",
    "import pygame"
   ]
  },
  {
   "cell_type": "code",
   "execution_count": 3,
   "metadata": {},
   "outputs": [],
   "source": [
    "env = gym.make('CliffWalking-v0')"
   ]
  },
  {
   "cell_type": "code",
   "execution_count": 4,
   "metadata": {
    "ExecuteTime": {
     "end_time": "2024-11-26T18:10:22.800043Z",
     "start_time": "2024-11-26T18:10:22.789193Z"
    }
   },
   "outputs": [],
   "source": [
    "def ExpectedSarsa(env, runs, gamma, alpha = 0.5, epsilon = 0.1):\n",
    "    Q = defaultdict(lambda : np.zeros(env.action_space.n))\n",
    "    rewardList = np.zeros(runs)\n",
    "    \n",
    "    for _ in range(runs):\n",
    "        state, info = env.reset()\n",
    "        if np.random.rand() < epsilon:\n",
    "            action = env.action_space.sample()\n",
    "        else:\n",
    "            action = np.argmax(Q[state])\n",
    "            \n",
    "        totalReward = 0\n",
    "        while True:\n",
    "            nextState, reward, terminated, x, x = env.step(action)\n",
    "            totalReward += reward\n",
    "            \n",
    "            if np.random.rand() < epsilon:\n",
    "                nextAction = env.action_space.sample()\n",
    "            else:\n",
    "                nextAction = np.argmax(Q[nextState])\n",
    "            \n",
    "            expectedQ = 0\n",
    "            for i in range(env.action_space.n):\n",
    "                if i == np.argmax(Q[nextState]):\n",
    "                    expectedQ += (1 - epsilon + epsilon / env.action_space.n) * Q[nextState][i] \n",
    "                else:\n",
    "                    expectedQ += (epsilon / env.action_space.n) * Q[nextState][i]\n",
    "\n",
    "            Q[state][action] += alpha * (reward + gamma * expectedQ - Q[state][action])\n",
    "            \n",
    "            if terminated:\n",
    "                rewardList[_] = totalReward\n",
    "                break\n",
    "                \n",
    "            state = nextState\n",
    "            action = nextAction\n",
    "    return Q, rewardList    "
   ]
  },
  {
   "cell_type": "code",
   "execution_count": null,
   "metadata": {
    "ExecuteTime": {
     "end_time": "2024-11-26T18:10:23.213300Z",
     "start_time": "2024-11-26T18:10:22.851238Z"
    }
   },
   "outputs": [],
   "source": [
    "QExpectedSarsa, _ = ExpectedSarsa(env, 500, 1, 0.5)"
   ]
  },
  {
   "cell_type": "code",
   "execution_count": 6,
   "metadata": {
    "ExecuteTime": {
     "end_time": "2024-11-26T18:10:27.647897Z",
     "start_time": "2024-11-26T18:10:23.224641Z"
    }
   },
   "outputs": [],
   "source": [
    "env = gym.make(\"CliffWalking-v0\", render_mode = \"human\")\n",
    "state , info = env.reset()\n",
    "while True:\n",
    "    action = np.argmax(QExpectedSarsa[state])\n",
    "    nextState, reward, done, _, _ = env.step(action)\n",
    "    if (done):\n",
    "        break\n",
    "    state = nextState"
   ]
  },
  {
   "cell_type": "code",
   "execution_count": 7,
   "metadata": {},
   "outputs": [],
   "source": [
    "pygame.quit()"
   ]
  }
 ],
 "metadata": {
  "kernelspec": {
   "display_name": ".venv",
   "language": "python",
   "name": "python3"
  },
  "language_info": {
   "codemirror_mode": {
    "name": "ipython",
    "version": 3
   },
   "file_extension": ".py",
   "mimetype": "text/x-python",
   "name": "python",
   "nbconvert_exporter": "python",
   "pygments_lexer": "ipython3",
   "version": "3.12.3"
  }
 },
 "nbformat": 4,
 "nbformat_minor": 2
}
